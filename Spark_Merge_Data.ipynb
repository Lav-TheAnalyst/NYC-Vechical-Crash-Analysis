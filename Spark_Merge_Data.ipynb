{
 "cells": [
  {
   "cell_type": "code",
   "execution_count": 1,
   "id": "eb85da08",
   "metadata": {},
   "outputs": [],
   "source": [
    "from pyspark.sql import SparkSession\n",
    "from pyspark.sql import functions as F\n",
    "from pyspark.sql import types as T\n",
    "from pyspark.sql import Row\n",
    "\n",
    "import findspark\n",
    "findspark.init()\n",
    "mongodb_spark_jars_path=r\"C:\\Users\\RAJPUT\\Desktop\\CDAC\\Python\\Cambrium-bio-solution-main\\Cambrium-bio-solution-main\\mongojars\"\n",
    "input_file_path=r\"C:\\Users\\RAJPUT\\Desktop\\CDAC\\Project\\Motor_Vehicle_Collisions_-_Crashes.csv\""
   ]
  },
  {
   "cell_type": "code",
   "execution_count": 2,
   "id": "9e7b1dd2",
   "metadata": {},
   "outputs": [],
   "source": [
    "spark=SparkSession.builder.config(\"spark.mongodb.input.uri\",\"mongodb://localhost:27017/test\").config(\"spark.mongodb.output.uri\",\"mongodb://localhost:27017/mydb.spotify\").config(\"spark.mongodb.input.uri\",\"mongodb://localhost:27017/test.employee\").config(\"spark.mongodb.output.uri\",\"mongodb://localhost:27017/test.employee\").config(\"spark.jars\", \"\"+mongodb_spark_jars_path+\"\\\\mongo-spark-connector_2.12-3.0.1.jar,\"+mongodb_spark_jars_path+\"\\\\bson-4.0.5.jar,\"+mongodb_spark_jars_path+\"\\\\mongodb-driver-core-4.0.5.jar,\"+mongodb_spark_jars_path+\"\\\\mongodb-driver-sync-4.0.5.jar\").getOrCreate()"
   ]
  },
  {
   "cell_type": "code",
   "execution_count": 3,
   "id": "4ddab57f",
   "metadata": {},
   "outputs": [],
   "source": [
    "from pyspark.sql.types import StructType, StructField, StringType, IntegerType, DateType, TimestampType, FloatType\n",
    "from datetime import datetime\n",
    "from pyspark.sql.types import * \n",
    "schema=StructType( \n",
    "                    [ \n",
    "                        \n",
    "                        StructField(\"CRASH_DATE\",StringType(),True), \n",
    "                        StructField(\"CRASH_TIME\",StringType(),True),\n",
    "                        StructField(\"BOROUGH\",StringType(),True),\n",
    "                        StructField(\"ZIP_CODE\",IntegerType(),True), \n",
    "                        StructField(\"LATITUDE\",IntegerType(),True), \n",
    "                        StructField(\"LONGITUDE\",IntegerType(),True), \n",
    "                        StructField(\"LOCATION\",StringType(),True),\n",
    "                        StructField(\"ON_STREET_NAME\",StringType(),True),\n",
    "                        StructField(\"CROSS_STREET_NAME\",StringType(),True),\n",
    "                        StructField(\"OFF_STREET_NAME\",StringType(),True),\n",
    "                        StructField(\"NUMBER_OF_PERSONS_INJURED\",IntegerType(),True), \n",
    "                        StructField(\"NUMBER_OF_PERSONS_KILLED\",IntegerType(),True), \n",
    "                        StructField(\"NUMBER_OF_PEDESTRIANS_INJURED\",IntegerType(),True),\n",
    "                        StructField(\"NUMBER_OF_PEDESTRIANS_KILLED\",IntegerType(),True), \n",
    "                        StructField(\"NUMBER_OF_CYCLIST_INJURED\",IntegerType(),True), \n",
    "                        StructField(\"NUMBER_OF_CYCLIST_KILLED\",IntegerType(),True), \n",
    "                        StructField(\"NUMBER_OF_MOTORIST_INJURED\",IntegerType(),True),\n",
    "                        StructField(\"NUMBER_OF_MOTORIST_KILLED\",IntegerType(),True), \n",
    "                        StructField(\"CONTRIBUTING_FACTOR_VEHICLE_1\",StringType(),True), \n",
    "                        StructField(\"CONTRIBUTING_FACTOR_VEHICLE_2\",StringType(),True), \n",
    "                        StructField(\"CONTRIBUTING_FACTOR_VEHICLE_3\",StringType(),True),\n",
    "                        StructField(\"CONTRIBUTING_FACTOR_VEHICLE_4\",StringType(),True),\n",
    "                        StructField(\"CONTRIBUTING_FACTOR_VEHICLE_5\",StringType(),True),\n",
    "                        StructField(\"COLLISION_ID\",IntegerType(),True),\n",
    "                        StructField(\"VEHICLE_TYPE_CODE_1\",StringType(),True), \n",
    "                        StructField(\"VEHICLE_TYPE_CODE_2\",StringType(),True), \n",
    "                        StructField(\"VEHICLE_TYPE_CODE_3\",StringType(),True),\n",
    "                        StructField(\"VEHICLE_TYPE_CODE_4\",StringType(),True), \n",
    "                        StructField(\"VEHICLE_TYPE_CODE_5\",StringType(),True) \n",
    "                \n",
    "                    ] \n",
    "                )"
   ]
  },
  {
   "cell_type": "code",
   "execution_count": 4,
   "id": "cd0a956c",
   "metadata": {},
   "outputs": [],
   "source": [
    "df = spark.read.option(\"header\", \"true\").schema(schema).csv(input_file_path)"
   ]
  },
  {
   "cell_type": "code",
   "execution_count": 4,
   "id": "9450e644",
   "metadata": {},
   "outputs": [],
   "source": [
    "df = spark.read.option(\"header\", \"true\").csv(input_file_path)"
   ]
  },
  {
   "cell_type": "code",
   "execution_count": 5,
   "id": "7b912cc0",
   "metadata": {},
   "outputs": [
    {
     "name": "stdout",
     "output_type": "stream",
     "text": [
      "root\n",
      " |-- CRASH_DATE: string (nullable = true)\n",
      " |-- CRASH_TIME: string (nullable = true)\n",
      " |-- BOROUGH: string (nullable = true)\n",
      " |-- ZIP_CODE: integer (nullable = true)\n",
      " |-- LATITUDE: integer (nullable = true)\n",
      " |-- LONGITUDE: integer (nullable = true)\n",
      " |-- LOCATION: string (nullable = true)\n",
      " |-- ON_STREET_NAME: string (nullable = true)\n",
      " |-- CROSS_STREET_NAME: string (nullable = true)\n",
      " |-- OFF_STREET_NAME: string (nullable = true)\n",
      " |-- NUMBER_OF_PERSONS_INJURED: integer (nullable = true)\n",
      " |-- NUMBER_OF_PERSONS_KILLED: integer (nullable = true)\n",
      " |-- NUMBER_OF_PEDESTRIANS_INJURED: integer (nullable = true)\n",
      " |-- NUMBER_OF_PEDESTRIANS_KILLED: integer (nullable = true)\n",
      " |-- NUMBER_OF_CYCLIST_INJURED: integer (nullable = true)\n",
      " |-- NUMBER_OF_CYCLIST_KILLED: integer (nullable = true)\n",
      " |-- NUMBER_OF_MOTORIST_INJURED: integer (nullable = true)\n",
      " |-- NUMBER_OF_MOTORIST_KILLED: integer (nullable = true)\n",
      " |-- CONTRIBUTING_FACTOR_VEHICLE_1: string (nullable = true)\n",
      " |-- CONTRIBUTING_FACTOR_VEHICLE_2: string (nullable = true)\n",
      " |-- CONTRIBUTING_FACTOR_VEHICLE_3: string (nullable = true)\n",
      " |-- CONTRIBUTING_FACTOR_VEHICLE_4: string (nullable = true)\n",
      " |-- CONTRIBUTING_FACTOR_VEHICLE_5: string (nullable = true)\n",
      " |-- COLLISION_ID: integer (nullable = true)\n",
      " |-- VEHICLE_TYPE_CODE_1: string (nullable = true)\n",
      " |-- VEHICLE_TYPE_CODE_2: string (nullable = true)\n",
      " |-- VEHICLE_TYPE_CODE_3: string (nullable = true)\n",
      " |-- VEHICLE_TYPE_CODE_4: string (nullable = true)\n",
      " |-- VEHICLE_TYPE_CODE_5: string (nullable = true)\n",
      "\n"
     ]
    }
   ],
   "source": [
    "df.printSchema()"
   ]
  },
  {
   "cell_type": "code",
   "execution_count": 6,
   "id": "0d12a9dc",
   "metadata": {},
   "outputs": [
    {
     "name": "stdout",
     "output_type": "stream",
     "text": [
      "+----------+----------+-------------+--------+--------+---------+-----------------------+--------------------------------+-----------------+----------------------------------------+-------------------------+------------------------+-----------------------------+----------------------------+-------------------------+------------------------+--------------------------+-------------------------+------------------------------+-----------------------------+-----------------------------+-----------------------------+-----------------------------+------------+-----------------------------------+-----------------------------------+-----------------------------------+-------------------+-------------------+----+----------------+\n",
      "|CRASH_DATE|CRASH_TIME|BOROUGH      |ZIP_CODE|LATITUDE|LONGITUDE|LOCATION               |ON_STREET_NAME                  |CROSS_STREET_NAME|OFF_STREET_NAME                         |NUMBER_OF_PERSONS_INJURED|NUMBER_OF_PERSONS_KILLED|NUMBER_OF_PEDESTRIANS_INJURED|NUMBER_OF_PEDESTRIANS_KILLED|NUMBER_OF_CYCLIST_INJURED|NUMBER_OF_CYCLIST_KILLED|NUMBER_OF_MOTORIST_INJURED|NUMBER_OF_MOTORIST_KILLED|CONTRIBUTING_FACTOR_VEHICLE_1 |CONTRIBUTING_FACTOR_VEHICLE_2|CONTRIBUTING_FACTOR_VEHICLE_3|CONTRIBUTING_FACTOR_VEHICLE_4|CONTRIBUTING_FACTOR_VEHICLE_5|COLLISION_ID|VEHICLE_TYPE_CODE_1                |VEHICLE_TYPE_CODE_2                |VEHICLE_TYPE_CODE_3                |VEHICLE_TYPE_CODE_4|VEHICLE_TYPE_CODE_5|hour|Date_Time2      |\n",
      "+----------+----------+-------------+--------+--------+---------+-----------------------+--------------------------------+-----------------+----------------------------------------+-------------------------+------------------------+-----------------------------+----------------------------+-------------------------+------------------------+--------------------------+-------------------------+------------------------------+-----------------------------+-----------------------------+-----------------------------+-----------------------------+------------+-----------------------------------+-----------------------------------+-----------------------------------+-------------------+-------------------+----+----------------+\n",
      "|04/14/2021|5:32      |null         |null    |null    |null     |null                   |BRONX WHITESTONE BRIDGE         |null             |null                                    |0                        |0                       |0                            |0                           |0                        |0                       |0                         |0                        |Following Too Closely         |Unspecified                  |null                         |null                         |null                         |4407480     |Sedan                              |Sedan                              |null                               |null               |null               |5   |04/14/2021 5:00 |\n",
      "|04/13/2021|21:35     |BROOKLYN     |11217   |null    |null     |(40.68358, -73.97617)  |null                            |null             |620       ATLANTIC AVENUE               |1                        |0                       |1                            |0                           |0                        |0                       |0                         |0                        |Unspecified                   |null                         |null                         |null                         |null                         |4407147     |Sedan                              |null                               |null                               |null               |null               |21  |04/13/2021 21:00|\n",
      "|04/15/2021|16:15     |null         |null    |null    |null     |null                   |HUTCHINSON RIVER PARKWAY        |null             |null                                    |0                        |0                       |0                            |0                           |0                        |0                       |0                         |0                        |Pavement Slippery             |null                         |null                         |null                         |null                         |4407665     |Station Wagon/Sport Utility Vehicle|null                               |null                               |null               |null               |16  |04/15/2021 16:00|\n",
      "|04/13/2021|16:00     |BROOKLYN     |11222   |null    |null     |null                   |VANDERVORT AVENUE               |ANTHONY STREET   |null                                    |0                        |0                       |0                            |0                           |0                        |0                       |0                         |0                        |Following Too Closely         |Unspecified                  |null                         |null                         |null                         |4407811     |Sedan                              |null                               |null                               |null               |null               |16  |04/13/2021 16:00|\n",
      "|04/12/2021|8:25      |null         |null    |0       |0        |(0.0, 0.0)             |EDSON AVENUE                    |null             |null                                    |0                        |0                       |0                            |0                           |0                        |0                       |0                         |0                        |Unspecified                   |Unspecified                  |null                         |null                         |null                         |4406885     |Station Wagon/Sport Utility Vehicle|Sedan                              |null                               |null               |null               |8   |04/12/2021 8:00 |\n",
      "|04/13/2021|17:11     |null         |null    |null    |null     |null                   |VERRAZANO BRIDGE UPPER          |null             |null                                    |0                        |0                       |0                            |0                           |0                        |0                       |0                         |0                        |Following Too Closely         |Unspecified                  |null                         |null                         |null                         |4407883     |Sedan                              |Box Truck                          |null                               |null               |null               |17  |04/13/2021 17:00|\n",
      "|04/13/2021|17:30     |QUEENS       |11106   |null    |null     |null                   |33 st                           |31ave            |null                                    |0                        |0                       |0                            |0                           |0                        |0                       |0                         |0                        |Driver Inattention/Distraction|Unspecified                  |null                         |null                         |null                         |4408019     |Sedan                              |Sedan                              |null                               |null               |null               |17  |04/13/2021 17:00|\n",
      "|04/16/2021|23:30     |null         |null    |null    |null     |null                   |SHORE PARKWAY                   |null             |null                                    |0                        |0                       |0                            |0                           |0                        |0                       |0                         |0                        |Unspecified                   |null                         |null                         |null                         |null                         |4408060     |Sedan                              |null                               |null                               |null               |null               |23  |04/16/2021 23:00|\n",
      "|04/11/2021|17:00     |null         |null    |null    |null     |null                   |GOWANUS RAMP                    |null             |null                                    |1                        |0                       |0                            |0                           |0                        |0                       |1                         |0                        |Other Vehicular               |Other Vehicular              |null                         |null                         |null                         |4406314     |Sedan                              |Sedan                              |null                               |null               |null               |17  |04/11/2021 17:00|\n",
      "|04/16/2021|21:15     |null         |null    |null    |null     |null                   |BRONX RIVER PARKWAY RAMP        |null             |null                                    |0                        |0                       |0                            |0                           |0                        |0                       |0                         |0                        |Driver Inattention/Distraction|Unspecified                  |null                         |null                         |null                         |4408149     |Station Wagon/Sport Utility Vehicle|Sedan                              |null                               |null               |null               |21  |04/16/2021 21:00|\n",
      "|04/11/2021|21:06     |BROOKLYN     |11226   |null    |null     |null                   |BEVERLEY ROAD                   |EAST 21 STREET   |null                                    |1                        |0                       |1                            |0                           |0                        |0                       |0                         |0                        |Passing Too Closely           |null                         |null                         |null                         |null                         |4406488     |Taxi                               |null                               |null                               |null               |null               |21  |04/11/2021 21:00|\n",
      "|04/15/2021|20:00     |STATEN ISLAND|10304   |null    |null     |null                   |GREENFIELD AVENUE               |OSGOOD AVENUE    |null                                    |0                        |0                       |0                            |0                           |0                        |0                       |0                         |0                        |Unspecified                   |null                         |null                         |null                         |null                         |4408310     |Sedan                              |null                               |null                               |null               |null               |20  |04/15/2021 20:00|\n",
      "|04/10/2021|11:15     |null         |null    |null    |null     |null                   |BROOKLYN BRIDGE                 |null             |null                                    |0                        |0                       |0                            |0                           |0                        |0                       |0                         |0                        |Unspecified                   |Unspecified                  |null                         |null                         |null                         |4406097     |Station Wagon/Sport Utility Vehicle|Station Wagon/Sport Utility Vehicle|null                               |null               |null               |11  |04/10/2021 11:00|\n",
      "|05/21/2019|22:50     |BROOKLYN     |11201   |null    |null     |(40.69754, -73.98312)  |GOLD STREET                     |CONCORD STREET   |null                                    |0                        |0                       |0                            |0                           |0                        |0                       |0                         |0                        |Passing or Lane Usage Improper|Unspecified                  |null                         |null                         |null                         |4136992     |�MBU                               |Taxi                               |null                               |null               |null               |22  |05/21/2019 22:00|\n",
      "|01/21/2020|15:49     |null         |null    |null    |null     |null                   |BRUCKNER BLVD                   |�ST 138 STREET  |null                                    |0                        |0                       |0                            |0                           |0                        |0                       |0                         |0                        |Driver Inattention/Distraction|Unspecified                  |null                         |null                         |null                         |4277087     |Sedan                              |Station Wagon/Sport Utility Vehicle|null                               |null               |null               |15  |01/21/2020 15:00|\n",
      "|02/26/2021|14:50     |BRONX        |10461   |null    |null     |(40.843464, -73.836)   |null                            |null             |2819      MIDDLETOWN ROAD               |0                        |0                       |0                            |0                           |0                        |0                       |0                         |0                        |Unspecified                   |Unspecified                  |null                         |null                         |null                         |4395664     |Station Wagon/Sport Utility Vehicle|null                               |null                               |null               |null               |14  |02/26/2021 14:00|\n",
      "|03/09/2021|11:00     |null         |null    |null    |null     |(40.692547, -73.990974)|COURT STREET                    |JORALEMON STREET |null                                    |1                        |0                       |0                            |0                           |0                        |0                       |1                         |0                        |Following Too Closely         |Unspecified                  |null                         |null                         |null                         |4397513     |Pick-up Truck                      |Sedan                              |null                               |null               |null               |11  |03/09/2021 11:00|\n",
      "|03/31/2021|22:20     |BROOKLYN     |11234   |null    |null     |(40.626457, -73.918)   |RALPH AVENUE                    |AVENUE K         |null                                    |1                        |0                       |0                            |0                           |0                        |0                       |1                         |0                        |Driver Inexperience           |Unspecified                  |null                         |null                         |null                         |4403773     |Sedan                              |Sedan                              |null                               |null               |null               |22  |03/31/2021 22:00|\n",
      "|04/06/2021|22:58     |STATEN ISLAND|10312   |null    |null     |(40.526894, -74.16728) |BARCLAY AVENUE                  |HYLAN BOULEVARD  |null                                    |7                        |0                       |0                            |0                           |0                        |0                       |7                         |0                        |Failure to Yield Right-of-Way |Unsafe Speed                 |null                         |null                         |null                         |4405244     |Station Wagon/Sport Utility Vehicle|Station Wagon/Sport Utility Vehicle|null                               |null               |null               |22  |04/06/2021 22:00|\n",
      "|04/09/2021|14:45     |null         |null    |null    |null     |(40.840775, -73.87246) |BRONX RIVER PARKWAY             |null             |null                                    |1                        |0                       |0                            |0                           |0                        |0                       |1                         |0                        |Driver Inattention/Distraction|Unspecified                  |Unspecified                  |Unspecified                  |null                         |4405914     |Sedan                              |Station Wagon/Sport Utility Vehicle|Station Wagon/Sport Utility Vehicle|null               |null               |14  |04/09/2021 14:00|\n",
      "+----------+----------+-------------+--------+--------+---------+-----------------------+--------------------------------+-----------------+----------------------------------------+-------------------------+------------------------+-----------------------------+----------------------------+-------------------------+------------------------+--------------------------+-------------------------+------------------------------+-----------------------------+-----------------------------+-----------------------------+-----------------------------+------------+-----------------------------------+-----------------------------------+-----------------------------------+-------------------+-------------------+----+----------------+\n",
      "only showing top 20 rows\n",
      "\n"
     ]
    }
   ],
   "source": [
    "from pyspark.sql.functions import *\n",
    "from pyspark.sql.functions import concat, lit, col\n",
    "df1 = df.withColumn('hour', split(df['CRASH_TIME'], ':').getItem(0)).select( \"*\",concat(col(\"CRASH_DATE\"),lit(\" \"),col(\"hour\"),lit(\":00\")).alias(\"Date_Time2\"))\n",
    "df1.show(truncate=False)"
   ]
  },
  {
   "cell_type": "code",
   "execution_count": 35,
   "id": "09bed895",
   "metadata": {},
   "outputs": [
    {
     "name": "stdout",
     "output_type": "stream",
     "text": [
      "root\n",
      " |-- CRASH_DATE: string (nullable = true)\n",
      " |-- CRASH_TIME: string (nullable = true)\n",
      " |-- BOROUGH: string (nullable = true)\n",
      " |-- ZIP_CODE: integer (nullable = true)\n",
      " |-- LATITUDE: integer (nullable = true)\n",
      " |-- LONGITUDE: integer (nullable = true)\n",
      " |-- LOCATION: string (nullable = true)\n",
      " |-- ON_STREET_NAME: string (nullable = true)\n",
      " |-- CROSS_STREET_NAME: string (nullable = true)\n",
      " |-- OFF_STREET_NAME: string (nullable = true)\n",
      " |-- NUMBER OF PERSONS INJURED: integer (nullable = true)\n",
      " |-- NUMBER OF PERSONS KILLED: integer (nullable = true)\n",
      " |-- NUMBER OF PEDESTRIANS INJURED: integer (nullable = true)\n",
      " |-- NUMBER OF PEDESTRIANS KILLED: integer (nullable = true)\n",
      " |-- NUMBER OF CYCLIST INJURED: integer (nullable = true)\n",
      " |-- NUMBER OF CYCLIST KILLED: integer (nullable = true)\n",
      " |-- NUMBER OF MOTORIST INJURED: integer (nullable = true)\n",
      " |-- NUMBER OF MOTORIST KILLED: integer (nullable = true)\n",
      " |-- CONTRIBUTING FACTOR VEHICLE 1: string (nullable = true)\n",
      " |-- CONTRIBUTING FACTOR VEHICLE 2: string (nullable = true)\n",
      " |-- CONTRIBUTING FACTOR VEHICLE 3: string (nullable = true)\n",
      " |-- CONTRIBUTING FACTOR VEHICLE 4: string (nullable = true)\n",
      " |-- CONTRIBUTING FACTOR VEHICLE 5: string (nullable = true)\n",
      " |-- COLLISION_ID: integer (nullable = true)\n",
      " |-- VEHICLE TYPE CODE 1: string (nullable = true)\n",
      " |-- VEHICLE TYPE CODE 2: string (nullable = true)\n",
      " |-- VEHICLE TYPE CODE 3: string (nullable = true)\n",
      " |-- VEHICLE TYPE CODE 4: string (nullable = true)\n",
      " |-- VEHICLE TYPE CODE 5: string (nullable = true)\n",
      " |-- hour: string (nullable = true)\n",
      " |-- Date_Time2: string (nullable = true)\n",
      "\n"
     ]
    }
   ],
   "source": [
    "df1.printSchema()"
   ]
  },
  {
   "cell_type": "code",
   "execution_count": 7,
   "id": "8505eade",
   "metadata": {},
   "outputs": [],
   "source": [
    "from pyspark.sql import functions as F\n",
    "from pyspark.sql import types as T\n",
    "from pyspark.sql import Row"
   ]
  },
  {
   "cell_type": "code",
   "execution_count": 8,
   "id": "2e7a1c49",
   "metadata": {},
   "outputs": [],
   "source": [
    "weather=spark.read.option(\"Inferschema\",\"true\").csv(r'C:\\Users\\RAJPUT\\Desktop\\CDAC\\Project\\weather.csv').toDF('condition','Temp',\n",
    "                  'date','dew','hour',\n",
    "                  'humidity','precip_rate','pressure_list',\n",
    "                  'wind_cardinal','wind_gust',\n",
    "                  'wind_speed')"
   ]
  },
  {
   "cell_type": "code",
   "execution_count": 9,
   "id": "1acac49e",
   "metadata": {},
   "outputs": [],
   "source": [
    "weather=weather.where(weather.condition!='0')"
   ]
  },
  {
   "cell_type": "code",
   "execution_count": 10,
   "id": "234c9498",
   "metadata": {},
   "outputs": [
    {
     "name": "stdout",
     "output_type": "stream",
     "text": [
      "root\n",
      " |-- condition: string (nullable = true)\n",
      " |-- Temp: integer (nullable = true)\n",
      " |-- date: string (nullable = true)\n",
      " |-- dew: integer (nullable = true)\n",
      " |-- hour: integer (nullable = true)\n",
      " |-- humidity: integer (nullable = true)\n",
      " |-- precip_rate: double (nullable = true)\n",
      " |-- pressure_list: double (nullable = true)\n",
      " |-- wind_cardinal: string (nullable = true)\n",
      " |-- wind_gust: integer (nullable = true)\n",
      " |-- wind_speed: integer (nullable = true)\n",
      "\n"
     ]
    }
   ],
   "source": [
    "weather.printSchema()"
   ]
  },
  {
   "cell_type": "code",
   "execution_count": 11,
   "id": "a2350005",
   "metadata": {},
   "outputs": [],
   "source": [
    "from pyspark.sql.functions import concat, lit, col\n",
    " \n",
    "weather=weather.select( \"*\",concat(col(\"date\"),lit(\" \"),col(\"hour\"),lit(\":00\")).alias(\"Date_Time1\"))\n"
   ]
  },
  {
   "cell_type": "code",
   "execution_count": 13,
   "id": "657b11a7",
   "metadata": {},
   "outputs": [],
   "source": [
    "df2=df1.join(weather, df1[\"Date_Time2\"] == weather[\"Date_Time1\"], \"inner\")"
   ]
  },
  {
   "cell_type": "code",
   "execution_count": 14,
   "id": "2a385e70",
   "metadata": {},
   "outputs": [
    {
     "data": {
      "text/plain": [
       "471420"
      ]
     },
     "execution_count": 14,
     "metadata": {},
     "output_type": "execute_result"
    }
   ],
   "source": [
    "df2.count()"
   ]
  },
  {
   "cell_type": "code",
   "execution_count": 15,
   "id": "1ca8431a",
   "metadata": {},
   "outputs": [
    {
     "name": "stdout",
     "output_type": "stream",
     "text": [
      "root\n",
      " |-- CRASH_DATE: string (nullable = true)\n",
      " |-- CRASH_TIME: string (nullable = true)\n",
      " |-- BOROUGH: string (nullable = true)\n",
      " |-- ZIP_CODE: integer (nullable = true)\n",
      " |-- LATITUDE: integer (nullable = true)\n",
      " |-- LONGITUDE: integer (nullable = true)\n",
      " |-- LOCATION: string (nullable = true)\n",
      " |-- ON_STREET_NAME: string (nullable = true)\n",
      " |-- CROSS_STREET_NAME: string (nullable = true)\n",
      " |-- OFF_STREET_NAME: string (nullable = true)\n",
      " |-- NUMBER_OF_PERSONS_INJURED: integer (nullable = true)\n",
      " |-- NUMBER_OF_PERSONS_KILLED: integer (nullable = true)\n",
      " |-- NUMBER_OF_PEDESTRIANS_INJURED: integer (nullable = true)\n",
      " |-- NUMBER_OF_PEDESTRIANS_KILLED: integer (nullable = true)\n",
      " |-- NUMBER_OF_CYCLIST_INJURED: integer (nullable = true)\n",
      " |-- NUMBER_OF_CYCLIST_KILLED: integer (nullable = true)\n",
      " |-- NUMBER_OF_MOTORIST_INJURED: integer (nullable = true)\n",
      " |-- NUMBER_OF_MOTORIST_KILLED: integer (nullable = true)\n",
      " |-- CONTRIBUTING_FACTOR_VEHICLE_1: string (nullable = true)\n",
      " |-- CONTRIBUTING_FACTOR_VEHICLE_2: string (nullable = true)\n",
      " |-- CONTRIBUTING_FACTOR_VEHICLE_3: string (nullable = true)\n",
      " |-- CONTRIBUTING_FACTOR_VEHICLE_4: string (nullable = true)\n",
      " |-- CONTRIBUTING_FACTOR_VEHICLE_5: string (nullable = true)\n",
      " |-- COLLISION_ID: integer (nullable = true)\n",
      " |-- VEHICLE_TYPE_CODE_1: string (nullable = true)\n",
      " |-- VEHICLE_TYPE_CODE_2: string (nullable = true)\n",
      " |-- VEHICLE_TYPE_CODE_3: string (nullable = true)\n",
      " |-- VEHICLE_TYPE_CODE_4: string (nullable = true)\n",
      " |-- VEHICLE_TYPE_CODE_5: string (nullable = true)\n",
      " |-- hour: string (nullable = true)\n",
      " |-- Date_Time2: string (nullable = true)\n",
      " |-- condition: string (nullable = true)\n",
      " |-- Temp: integer (nullable = true)\n",
      " |-- date: string (nullable = true)\n",
      " |-- dew: integer (nullable = true)\n",
      " |-- hour: integer (nullable = true)\n",
      " |-- humidity: integer (nullable = true)\n",
      " |-- precip_rate: double (nullable = true)\n",
      " |-- pressure_list: double (nullable = true)\n",
      " |-- wind_cardinal: string (nullable = true)\n",
      " |-- wind_gust: integer (nullable = true)\n",
      " |-- wind_speed: integer (nullable = true)\n",
      " |-- Date_Time1: string (nullable = true)\n",
      "\n"
     ]
    }
   ],
   "source": [
    "df2.printSchema()"
   ]
  },
  {
   "cell_type": "code",
   "execution_count": 16,
   "id": "d07cb8dc",
   "metadata": {},
   "outputs": [],
   "source": [
    "df2.write.format(\"com.mongodb.spark.sql.DefaultSource\").option(\"database\",\"CDAC\").option(\"collection\", \"NYC_crash\").save()"
   ]
  },
  {
   "cell_type": "code",
   "execution_count": 17,
   "id": "cb6a7463",
   "metadata": {},
   "outputs": [
    {
     "name": "stdout",
     "output_type": "stream",
     "text": [
      "+----------+----------+-------------+--------+--------+---------+--------------------+--------------------+--------------------+--------------------+-------------------------+------------------------+-----------------------------+----------------------------+-------------------------+------------------------+--------------------------+-------------------------+-----------------------------+-----------------------------+-----------------------------+-----------------------------+-----------------------------+------------+--------------------+--------------------+--------------------+-------------------+-------------------+----+----------------+-------------+----+----------+---+----+--------+-----------+-------------+-------------+---------+----------+----------------+\n",
      "|CRASH_DATE|CRASH_TIME|      BOROUGH|ZIP_CODE|LATITUDE|LONGITUDE|            LOCATION|      ON_STREET_NAME|   CROSS_STREET_NAME|     OFF_STREET_NAME|NUMBER_OF_PERSONS_INJURED|NUMBER_OF_PERSONS_KILLED|NUMBER_OF_PEDESTRIANS_INJURED|NUMBER_OF_PEDESTRIANS_KILLED|NUMBER_OF_CYCLIST_INJURED|NUMBER_OF_CYCLIST_KILLED|NUMBER_OF_MOTORIST_INJURED|NUMBER_OF_MOTORIST_KILLED|CONTRIBUTING_FACTOR_VEHICLE_1|CONTRIBUTING_FACTOR_VEHICLE_2|CONTRIBUTING_FACTOR_VEHICLE_3|CONTRIBUTING_FACTOR_VEHICLE_4|CONTRIBUTING_FACTOR_VEHICLE_5|COLLISION_ID| VEHICLE_TYPE_CODE_1| VEHICLE_TYPE_CODE_2| VEHICLE_TYPE_CODE_3|VEHICLE_TYPE_CODE_4|VEHICLE_TYPE_CODE_5|hour|      Date_Time2|    condition|Temp|      date|dew|hour|humidity|precip_rate|pressure_list|wind_cardinal|wind_gust|wind_speed|      Date_Time1|\n",
      "+----------+----------+-------------+--------+--------+---------+--------------------+--------------------+--------------------+--------------------+-------------------------+------------------------+-----------------------------+----------------------------+-------------------------+------------------------+--------------------------+-------------------------+-----------------------------+-----------------------------+-----------------------------+-----------------------------+-----------------------------+------------+--------------------+--------------------+--------------------+-------------------+-------------------+----+----------------+-------------+----+----------+---+----+--------+-----------+-------------+-------------+---------+----------+----------------+\n",
      "|04/12/2021|      8:25|         null|    null|       0|        0|          (0.0, 0.0)|EDSON AVENUE     ...|                null|                null|                        0|                       0|                            0|                           0|                        0|                       0|                         0|                        0|                  Unspecified|                  Unspecified|                         null|                         null|                         null|     4406885|Station Wagon/Spo...|               Sedan|                null|               null|               null|   8| 04/12/2021 8:00|Partly Cloudy|  39|04/12/2021| 21|   8|      49|        0.0|        30.05|           NW|        0|        13| 04/12/2021 8:00|\n",
      "|04/11/2021|     17:00|         null|    null|    null|     null|                null|GOWANUS RAMP     ...|                null|                null|                        1|                       0|                            0|                           0|                        0|                       0|                         1|                        0|              Other Vehicular|              Other Vehicular|                         null|                         null|                         null|     4406314|               Sedan|               Sedan|                null|               null|               null|  17|04/11/2021 17:00|Partly Cloudy|  38|04/11/2021| 32|  17|      79|        0.0|        30.37|            N|        0|         6|04/11/2021 17:00|\n",
      "|04/11/2021|     21:06|     BROOKLYN|   11226|    null|     null|                null|BEVERLEY ROAD    ...|      EAST 21 STREET|                null|                        1|                       0|                            1|                           0|                        0|                       0|                         0|                        0|          Passing Too Closely|                         null|                         null|                         null|                         null|     4406488|                Taxi|                null|                null|               null|               null|  21|04/11/2021 21:00|Mostly Cloudy|  50|04/11/2021| 26|  21|      39|        0.0|        30.35|          NNE|        0|         5|04/11/2021 21:00|\n",
      "|04/10/2021|     11:15|         null|    null|    null|     null|                null|BROOKLYN BRIDGE  ...|                null|                null|                        0|                       0|                            0|                           0|                        0|                       0|                         0|                        0|                  Unspecified|                  Unspecified|                         null|                         null|                         null|     4406097|Station Wagon/Spo...|Station Wagon/Spo...|                null|               null|               null|  11|04/10/2021 11:00|       Cloudy|  68|04/10/2021| 65|  11|      90|        0.0|         29.9|          SSW|        0|         6|04/10/2021 11:00|\n",
      "|03/09/2021|     11:00|         null|    null|    null|     null|(40.692547, -73.9...|        COURT STREET|    JORALEMON STREET|                null|                        1|                       0|                            0|                           0|                        0|                       0|                         1|                        0|         Following Too Clo...|                  Unspecified|                         null|                         null|                         null|     4397513|       Pick-up Truck|               Sedan|                null|               null|               null|  11|03/09/2021 11:00|         Fair|  62|03/09/2021| 52|  11|      70|        0.0|        29.98|          NNE|        0|         6|03/09/2021 11:00|\n",
      "|04/06/2021|     22:58|STATEN ISLAND|   10312|    null|     null|(40.526894, -74.1...|      BARCLAY AVENUE|     HYLAN BOULEVARD|                null|                        7|                       0|                            0|                           0|                        0|                       0|                         7|                        0|         Failure to Yield ...|                 Unsafe Speed|                         null|                         null|                         null|     4405244|Station Wagon/Spo...|Station Wagon/Spo...|                null|               null|               null|  22|04/06/2021 22:00|       Cloudy|  67|04/06/2021| 64|  22|      90|        0.0|         29.9|            S|        0|         9|04/06/2021 22:00|\n",
      "|04/09/2021|     14:45|         null|    null|    null|     null|(40.840775, -73.8...| BRONX RIVER PARKWAY|                null|                null|                        1|                       0|                            0|                           0|                        0|                       0|                         1|                        0|         Driver Inattentio...|                  Unspecified|                  Unspecified|                  Unspecified|                         null|     4405914|               Sedan|Station Wagon/Spo...|Station Wagon/Spo...|               null|               null|  14|04/09/2021 14:00|Mostly Cloudy|  62|04/09/2021| 55|  14|      78|        0.0|        30.02|            N|        0|         5|04/09/2021 14:00|\n",
      "|04/12/2021|     16:08|     BROOKLYN|   11221|    null|     null|(40.696735, -73.9...|            BROADWAY|   STUYVESANT AVENUE|                null|                        1|                       0|                            0|                           0|                        0|                       0|                         1|                        0|                  Unspecified|                  Unspecified|                         null|                         null|                         null|     4408242|Station Wagon/Spo...|Station Wagon/Spo...|                null|               null|               null|  16|04/12/2021 16:00|Mostly Cloudy|  38|04/12/2021| 24|  16|      57|        0.0|        30.12|         CALM|        0|         0|04/12/2021 16:00|\n",
      "|04/10/2021|     12:00|        BRONX|   10453|    null|     null|(40.856014, -73.9...|     WEST 180 STREET|      ANDREWS AVENUE|                null|                        0|                       0|                            0|                           0|                        0|                       0|                         0|                        0|                  Unspecified|                  Unspecified|                  Unspecified|                         null|                         null|     4408003|               Sedan|Station Wagon/Spo...|               Sedan|               null|               null|  12|04/10/2021 12:00|       Cloudy|  68|04/10/2021| 66|  12|      93|        0.0|         29.9|          SSW|        0|         5|04/10/2021 12:00|\n",
      "|04/09/2021|     17:00|         null|    null|    null|     null|(40.68781, -73.9237)|      MADISON STREET|                null|                null|                        0|                       0|                            0|                           0|                        0|                       0|                         0|                        0|             Backing Unsafely|                  Unspecified|                         null|                         null|                         null|     4408229|Station Wagon/Spo...|                null|                null|               null|               null|  17|04/09/2021 17:00|         Fair|  67|04/09/2021| 54|  17|      63|        0.0|        30.05|          WNW|        0|         6|04/09/2021 17:00|\n",
      "|04/11/2021|      8:56|         null|    null|    null|     null|(40.67253, -73.79...|       SUTTER AVENUE|                null|                null|                        0|                       0|                            0|                           0|                        0|                       0|                         0|                        0|         Driver Inattentio...|                  Unspecified|                  Unspecified|                  Unspecified|                  Unspecified|     4407785|               Sedan|               Sedan|Station Wagon/Spo...|              Sedan|              Sedan|   8| 04/11/2021 8:00|       Cloudy|  46|04/11/2021| 27|   8|      47|        0.0|        30.32|          NNW|        0|        10| 04/11/2021 8:00|\n",
      "|04/01/2021|      0:10|    MANHATTAN|   10027|    null|     null|(40.805138, -73.9...|     WEST 122 STREET|MOUNT MORRIS PARK...|                null|                        0|                       0|                            0|                           0|                        0|                       0|                         0|                        0|         Reaction to Uninv...|                  Unspecified|                  Unspecified|                         null|                         null|     4407770|Station Wagon/Spo...|               Sedan|Station Wagon/Spo...|               null|               null|   0| 04/01/2021 0:00|       Cloudy|  39|04/01/2021| 35|   0|      86|        0.0|        29.95|          NNE|        0|        12| 04/01/2021 0:00|\n",
      "|04/12/2021|     18:30|         null|    null|    null|     null|(40.69496, -73.94...|     TOMPKINS AVENUE|                null|                null|                        0|                       0|                            0|                           0|                        0|                       0|                         0|                        0|         Passing or Lane U...|                  Unspecified|                         null|                         null|                         null|     4408214|               Sedan|                null|                null|               null|               null|  18|04/12/2021 18:00|Mostly Cloudy|  39|04/12/2021| 25|  18|      57|        0.0|        30.13|         CALM|        0|         0|04/12/2021 18:00|\n",
      "|04/12/2021|     21:30|        BRONX|   10457|    null|     null|(40.854115, -73.8...|     EAST 183 STREET|            3 AVENUE|                null|                        0|                       0|                            0|                           0|                        0|                       0|                         0|                        0|         Driver Inattentio...|                  Unspecified|                  Unspecified|                         null|                         null|     4407794|               Sedan|               Sedan|Station Wagon/Spo...|               null|               null|  21|04/12/2021 21:00|Partly Cloudy|  45|04/12/2021| 26|  21|      48|        0.0|        30.15|            S|        0|         3|04/12/2021 21:00|\n",
      "|04/08/2021|     21:52|     BROOKLYN|   11212|    null|     null|(40.65785, -73.91...|    ROCKAWAY PARKWAY|     WILLMOHR STREET|                null|                        0|                       0|                            0|                           0|                        0|                       0|                         0|                        0|                  Unspecified|                         null|                         null|                         null|                         null|     4408100|               Sedan|                null|                null|               null|               null|  21|04/08/2021 21:00|       Cloudy|  75|04/08/2021| 59|  21|      57|        0.0|        30.13|            E|        0|         5|04/08/2021 21:00|\n",
      "|04/09/2021|      1:15|         null|    null|    null|     null|(40.58401, -73.98...|        BELT PARKWAY|                null|                null|                        0|                       0|                            0|                           0|                        0|                       0|                         0|                        0|         Following Too Clo...|                  Unspecified|                         null|                         null|                         null|     4408047|               Sedan|               Sedan|                null|               null|               null|   1| 04/09/2021 1:00|Mostly Cloudy|  75|04/09/2021| 52|   1|      44|        0.0|        29.99|            N|        0|         7| 04/09/2021 1:00|\n",
      "|04/05/2021|     16:21|    MANHATTAN|   10029|    null|     null|(40.7952, -73.94623)|                null|                null|1505      PARK AV...|                        3|                       0|                            0|                           0|                        0|                       0|                         3|                        0|          Passing Too Closely|                  Unspecified|                         null|                         null|                         null|     4407837|Station Wagon/Spo...|               Sedan|                null|               null|               null|  16|04/05/2021 16:00|       Cloudy|  52|04/05/2021| 50|  16|      93|        0.0|         29.7|            N|        0|        14|04/05/2021 16:00|\n",
      "|04/05/2021|     16:27|    MANHATTAN|   10026|    null|     null|(40.805824, -73.9...|                null|                null|301       WEST 11...|                        0|                       0|                            0|                           0|                        0|                       0|                         0|                        0|                  Unspecified|                  Unspecified|                         null|                         null|                         null|     4407774|Station Wagon/Spo...|                null|                null|               null|               null|  16|04/05/2021 16:00|       Cloudy|  52|04/05/2021| 50|  16|      93|        0.0|         29.7|            N|        0|        14|04/05/2021 16:00|\n",
      "|04/12/2021|      6:00|         null|    null|    null|     null|(40.678375, -73.9...|        SUYDAM PLACE|                null|                null|                        0|                       0|                            0|                           0|                        0|                       0|                         0|                        0|         Other Lighting De...|                  Unspecified|                         null|                         null|                         null|     4408223|   Garbage or Refuse|               Sedan|                null|               null|               null|   6| 04/12/2021 6:00|         Fair|  41|04/12/2021| 20|   6|      43|        0.0|        30.06|           NW|        0|        14| 04/12/2021 6:00|\n",
      "|04/11/2021|     18:45|        BRONX|   10460|    null|     null|(40.84383, -73.88...|                null|                null|1988      MARMION...|                        0|                       0|                            0|                           0|                        0|                       0|                         0|                        0|         Driver Inattentio...|                  Unspecified|                         null|                         null|                         null|     4407915|Station Wagon/Spo...|Station Wagon/Spo...|                null|               null|               null|  18|04/11/2021 18:00|Partly Cloudy|  41|04/11/2021| 34|  18|      76|        0.0|        30.36|            N|        0|         6|04/11/2021 18:00|\n",
      "+----------+----------+-------------+--------+--------+---------+--------------------+--------------------+--------------------+--------------------+-------------------------+------------------------+-----------------------------+----------------------------+-------------------------+------------------------+--------------------------+-------------------------+-----------------------------+-----------------------------+-----------------------------+-----------------------------+-----------------------------+------------+--------------------+--------------------+--------------------+-------------------+-------------------+----+----------------+-------------+----+----------+---+----+--------+-----------+-------------+-------------+---------+----------+----------------+\n",
      "only showing top 20 rows\n",
      "\n"
     ]
    }
   ],
   "source": [
    "df2.show()"
   ]
  },
  {
   "cell_type": "code",
   "execution_count": null,
   "id": "3b368511",
   "metadata": {},
   "outputs": [],
   "source": []
  }
 ],
 "metadata": {
  "kernelspec": {
   "display_name": "Python 3",
   "language": "python",
   "name": "python3"
  },
  "language_info": {
   "codemirror_mode": {
    "name": "ipython",
    "version": 3
   },
   "file_extension": ".py",
   "mimetype": "text/x-python",
   "name": "python",
   "nbconvert_exporter": "python",
   "pygments_lexer": "ipython3",
   "version": "3.8.8"
  }
 },
 "nbformat": 4,
 "nbformat_minor": 5
}
